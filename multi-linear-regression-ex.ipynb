{
 "cells": [
  {
   "cell_type": "code",
   "execution_count": 77,
   "metadata": {},
   "outputs": [],
   "source": [
    "import pandas as pd\n",
    "cars = pd.read_csv('Cars93.csv')\n",
    "\n",
    "# import the raw data"
   ]
  },
  {
   "cell_type": "code",
   "execution_count": 78,
   "metadata": {},
   "outputs": [],
   "source": [
    "# clean the data & remove missing values\n",
    "cars = cars.dropna()"
   ]
  },
  {
   "cell_type": "code",
   "execution_count": 79,
   "metadata": {},
   "outputs": [],
   "source": [
    "# drop columns that are not categorical or numeric (I dropped some of the categorical ones too)\n",
    "cars.drop(columns = ['Unnamed: 0','Origin','Make','AirBags','Manufacturer','Model','DriveTrain','Passengers','Man.trans.avail'],inplace=True)"
   ]
  },
  {
   "cell_type": "code",
   "execution_count": 80,
   "metadata": {},
   "outputs": [],
   "source": [
    "# generate dummy variables for categorical\n",
    "dummies = pd.get_dummies(cars['Type'])\n",
    "cars = pd.concat([cars, dummies],axis=1)\n",
    "cars.drop(columns = 'Type',inplace=True)"
   ]
  },
  {
   "cell_type": "code",
   "execution_count": 81,
   "metadata": {},
   "outputs": [],
   "source": [
    "# split up target variable from main dataset\n",
    "x = cars.drop(columns = 'MPG.highway')\n",
    "y = cars['MPG.highway']"
   ]
  },
  {
   "cell_type": "code",
   "execution_count": 82,
   "metadata": {},
   "outputs": [],
   "source": [
    "# create a test set\n",
    "import numpy as np\n",
    "from sklearn.model_selection import train_test_split\n",
    "\n",
    "x_train, x_test, y_train, y_test = train_test_split(\n",
    "    x, y, test_size = .75, random_state = 0\n",
    ")"
   ]
  },
  {
   "cell_type": "code",
   "execution_count": 83,
   "metadata": {},
   "outputs": [],
   "source": [
    "# train the model using linear regression\n",
    "\n",
    "from sklearn import linear_model\n",
    "reg = linear_model.LinearRegression().fit(x_train,y_train)"
   ]
  },
  {
   "cell_type": "code",
   "execution_count": 84,
   "metadata": {},
   "outputs": [
    {
     "data": {
      "text/plain": [
       "array([42.93674782, 28.44996715, 26.96003624, 15.43854045, 38.57495732,\n",
       "       32.09779122, 27.30172333, 26.76340505, 22.99532253, 16.64060067,\n",
       "       35.96806573, 39.78201416, 20.50048756, 39.30576381, 32.59575233,\n",
       "       31.09276374, 44.2414386 , 19.67643687, 49.10696643, 34.58141403,\n",
       "       36.07034332, 18.22300119, 31.2287043 , 53.42707497, 15.69777653,\n",
       "       31.22607932, 45.88389601, 18.12785179, 26.69658486, 29.26826588,\n",
       "       29.67411344, 42.35646617, 41.13617248, 24.19569557, 20.39916595,\n",
       "       41.19265425, 12.0656424 , 17.48578476, 41.92780134, 18.31795769,\n",
       "       14.3911181 , 22.37250881, 21.47671593, 37.69184268, 40.49822315,\n",
       "       12.36215285, 26.33284156, 43.56151816, 18.17656403, 35.39922651,\n",
       "       28.99661295, 24.57952681, 35.1883183 , 35.30424094, 45.91170004,\n",
       "       23.70133467, 28.3291851 , 31.33802614, 46.02217642, 36.75800521,\n",
       "       22.9266018 , 35.17064496])"
      ]
     },
     "execution_count": 84,
     "metadata": {},
     "output_type": "execute_result"
    }
   ],
   "source": [
    "# generate predictions on the test set\n",
    "\n",
    "reg.predict(x_test)"
   ]
  },
  {
   "cell_type": "code",
   "execution_count": 85,
   "metadata": {},
   "outputs": [
    {
     "data": {
      "image/png": "[encoded data removed]",
      "text/plain": [
       "<Figure size 432x288 with 1 Axes>"
      ]
     },
     "metadata": {},
     "output_type": "display_data"
    }
   ],
   "source": [
    "import seaborn as sns\n",
    "import matplotlib.pyplot as plt\n",
    "\n",
    "\n",
    "sns.set_style('whitegrid')\n",
    "\n",
    "plt.scatter(x = reg.predict(x_test), y = y_test)\n",
    "plt.title(\"predicted vs actual values\")\n",
    "plt.xlabel(\"predicted\")\n",
    "plt.ylabel(\"actual values\")\n",
    "plt.show()"
   ]
  },
  {
   "cell_type": "code",
   "execution_count": 86,
   "metadata": {},
   "outputs": [
    {
     "data": {
      "image/png": "[encoded data removed]",
      "text/plain": [
       "<Figure size 432x288 with 1 Axes>"
      ]
     },
     "metadata": {},
     "output_type": "display_data"
    }
   ],
   "source": [
    "\n",
    "plt.scatter(x = (reg.predict(x_test) - y_test), y = reg.predict(x_test))\n",
    "plt.title(\"residuals vs predicted values\")\n",
    "plt.xlabel(\"residuals\")\n",
    "plt.ylabel(\"predicted\")\n",
    "plt.show()\n"
   ]
  },
  {
   "cell_type": "code",
   "execution_count": 89,
   "metadata": {},
   "outputs": [
    {
     "data": {
      "text/plain": [
       "-3.0345243265295645"
      ]
     },
     "execution_count": 89,
     "metadata": {},
     "output_type": "execute_result"
    }
   ],
   "source": [
    "# print out the coefficient of determination of the model\n",
    "reg.score(x_test,y_test)"
   ]
  },
  {
   "cell_type": "code",
   "execution_count": 105,
   "metadata": {},
   "outputs": [
    {
     "name": "stdout",
     "output_type": "stream",
     "text": [
      "y = 33.504842790287036 + 0.7733216732277547x_1 + -0.16333119141598756x_2 + 0.028872023622391444x_3 + 0.9135117898243053x_4 + -6.0778659141626985x_5 + 11.390161465787711x_6 + -0.143686407323925x_7 + 0.012271683471238854x_8 + -0.022499910145297293x_9 + 1.20784061383222x_10 + 0.320307409991446x_11 + -0.5348003679364558x_12 + 0.10352950359764622x_13 + -0.005463607954616142x_14 + -0.9151112803204909x_15 + 0.23536947391519294x_16 + -0.011733590329475319x_17 + 5.2368546964259135x_18 + -2.623821985900815x_19 + -6.095957044849822x_20 + 7.186739080530475x_21 + -3.7038147462058193x_22 \n"
     ]
    }
   ],
   "source": [
    "# print out the model as an equation:\n",
    "equation = f'y = {reg.intercept_} + '\n",
    "for i, coefficient in enumerate(reg.coef_):\n",
    "    equation = equation + f'{coefficient}x_{i+1} + '\n",
    "equation = equation[:-2]\n",
    "print(equation)"
   ]
  }
 ],
 "metadata": {
  "kernelspec": {
   "display_name": "Python 3.9.12 ('base')",
   "language": "python",
   "name": "python3"
  },
  "language_info": {
   "codemirror_mode": {
    "name": "ipython",
    "version": 3
   },
   "file_extension": ".py",
   "mimetype": "text/x-python",
   "name": "python",
   "nbconvert_exporter": "python",
   "pygments_lexer": "ipython3",
   "version": "3.9.12"
  },
  "orig_nbformat": 4,
  "vscode": {
   "interpreter": {
    "hash": "d7288e82646d3164eca24130947288f8779d11454649f2c02a5dfc42af7f324c"
   }
  }
 },
 "nbformat": 4,
 "nbformat_minor": 2
}
